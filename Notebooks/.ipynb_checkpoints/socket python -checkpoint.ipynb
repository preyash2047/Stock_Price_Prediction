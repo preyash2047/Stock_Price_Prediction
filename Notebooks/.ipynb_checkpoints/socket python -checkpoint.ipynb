{
 "cells": [
  {
   "cell_type": "code",
   "execution_count": 36,
   "id": "unsigned-azerbaijan",
   "metadata": {},
   "outputs": [],
   "source": [
    "#https://www.studytonight.com/network-programming-in-python/building-a-port-scanner#\n",
    "\n",
    "import socket\n",
    "import pandas as pd\n",
    "import time\n",
    "from console_progressbar import ProgressBar\n",
    "import random"
   ]
  },
  {
   "cell_type": "code",
   "execution_count": 39,
   "id": "touched-white",
   "metadata": {},
   "outputs": [
    {
     "name": "stdout",
     "output_type": "stream",
     "text": [
      "Here |🧦🧦🧦🧦🧦🧦🧦🧦🧦🧦🧦🧦🧦🧦🧦🧦🧦🧦🧦🧦🧦🧦🧦🧦🧦🧦🧦🧦🧦🧦| 100.000% Now\n",
      "Port Scanning complete\n"
     ]
    }
   ],
   "source": [
    "#dataset\n",
    "dataset = pd.read_csv(\"C:/Users/Preyash/Desktop/ip_port_report - Copy.csv\")\n",
    "dataset = dataset.set_index(\"ip\")\n",
    "\n",
    "symbol = list(\"🐧🐞🦑🐛🙊🐒🦦🤸🏻👙🩱⛑️🧦🧤🥿🥻👠\")\n",
    "\n",
    "port_list = [8080, 8000] #990, 8880, 443, 80, 8000]:\n",
    "for port in port_list:\n",
    "    dataset[port] = \"No\"\n",
    "\n",
    "    \n",
    "pb = ProgressBar(total=100,prefix='Here', suffix='Now', decimals=3, length=30, fill=random.choice(symbol), zfill='-')\n",
    "    \n",
    "for t_host in dataset.index:\n",
    "    t_ip = socket.gethostbyname(t_host)     # Resolve t_host to IPv4 address\n",
    "    #print (t_ip)\n",
    "    for t_port in port_list:\n",
    "        try:\n",
    "            sock = socket.socket()\n",
    "            res = sock.connect((t_ip, t_port))\n",
    "            sock.close()\n",
    "            dataset.loc[t_host, port] = \"Yes\"\n",
    "        except:\n",
    "            pass\n",
    "    progress = (dataset.index.values.tolist().index(t_host)/len(dataset))*100\n",
    "    if progress % 5 == 0:\n",
    "        pb.print_progress_bar(int(progress+10))\n",
    "\n",
    "print(\"Port Scanning complete\")\n",
    "\n",
    "dataset.to_csv(\"C:/Users/Preyash/Desktop/ip_port_report.csv\")"
   ]
  },
  {
   "cell_type": "code",
   "execution_count": null,
   "id": "varied-climate",
   "metadata": {},
   "outputs": [],
   "source": []
  }
 ],
 "metadata": {
  "kernelspec": {
   "display_name": "Python 3",
   "language": "python",
   "name": "python3"
  },
  "language_info": {
   "codemirror_mode": {
    "name": "ipython",
    "version": 3
   },
   "file_extension": ".py",
   "mimetype": "text/x-python",
   "name": "python",
   "nbconvert_exporter": "python",
   "pygments_lexer": "ipython3",
   "version": "3.8.5"
  }
 },
 "nbformat": 4,
 "nbformat_minor": 5
}
